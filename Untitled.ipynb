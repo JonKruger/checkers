{
 "cells": [
  {
   "cell_type": "code",
   "execution_count": null,
   "metadata": {},
   "outputs": [],
   "source": [
    "import numpy as np\n",
    "from ai.analyzer.weighted_win_likelihood_analyzer import WeightedWinLikelihoodAnalyzer, WeightedState\n",
    "from ai.analyzer.nn_trainer import NNTrainer\n",
    "from ai.games.random_ai_game import RandomAIGame\n",
    "from ai.games.ai_game import AIGame\n",
    "from ai.players.random_ai_player import RandomAIPlayer\n",
    "from ai.players.nn_player import NNPlayer\n",
    "import matplotlib.pyplot as plt\n",
    "import datetime.datetime\n",
    "%matplotlib inline"
   ]
  },
  {
   "cell_type": "code",
   "execution_count": 2,
   "metadata": {},
   "outputs": [
    {
     "name": "stdout",
     "output_type": "stream",
     "text": [
      "winner is 2\n",
      "Weight values: count = 126, mean = 0.5, std = 0.15446647920576276, 25% = 0.5, 75% = 0.5\n",
      "winner is None\n",
      "winner is 2\n",
      "Weight values: count = 242, mean = 0.5, std = 0.06534579838994761, 25% = 0.5, 75% = 0.5\n",
      "winner is 1\n",
      "Weight values: count = 158, mean = 0.5, std = 0.08457459370357019, 25% = 0.5, 75% = 0.5\n",
      "winner is 1\n",
      "Weight values: count = 126, mean = 0.5, std = 0.09461425159900114, 25% = 0.5, 75% = 0.5\n",
      "winner is None\n",
      "winner is 1\n",
      "Weight values: count = 82, mean = 0.5, std = 0.13666234841110492, 25% = 0.49999999990135735, 75% = 0.5000000000986426\n",
      "winner is 2\n",
      "Weight values: count = 186, mean = 0.5, std = 0.07447921349845077, 25% = 0.5, 75% = 0.5\n",
      "winner is 1\n",
      "Weight values: count = 150, mean = 0.5, std = 0.0872301776764941, 25% = 0.5, 75% = 0.5\n",
      "winner is 2\n",
      "Weight values: count = 146, mean = 0.5, std = 0.0840573124310345, 25% = 0.5, 75% = 0.5\n",
      "winner is 1\n",
      "Weight values: count = 210, mean = 0.5, std = 0.07012171218503449, 25% = 0.5, 75% = 0.5\n",
      "winner is None\n",
      "winner is 1\n",
      "Weight values: count = 150, mean = 0.5, std = 0.08292489282273204, 25% = 0.5, 75% = 0.5\n"
     ]
    },
    {
     "name": "stderr",
     "output_type": "stream",
     "text": [
      "WARNING: Logging before flag parsing goes to stderr.\n",
      "W0819 14:21:20.116941 25272 deprecation_wrapper.py:119] From C:\\Users\\jkruger\\AppData\\Local\\Continuum\\anaconda3\\lib\\site-packages\\keras\\backend\\tensorflow_backend.py:74: The name tf.get_default_graph is deprecated. Please use tf.compat.v1.get_default_graph instead.\n",
      "\n",
      "W0819 14:21:20.139916 25272 deprecation_wrapper.py:119] From C:\\Users\\jkruger\\AppData\\Local\\Continuum\\anaconda3\\lib\\site-packages\\keras\\backend\\tensorflow_backend.py:517: The name tf.placeholder is deprecated. Please use tf.compat.v1.placeholder instead.\n",
      "\n",
      "W0819 14:21:20.141910 25272 deprecation_wrapper.py:119] From C:\\Users\\jkruger\\AppData\\Local\\Continuum\\anaconda3\\lib\\site-packages\\keras\\backend\\tensorflow_backend.py:4138: The name tf.random_uniform is deprecated. Please use tf.random.uniform instead.\n",
      "\n",
      "W0819 14:21:20.259941 25272 deprecation_wrapper.py:119] From C:\\Users\\jkruger\\AppData\\Local\\Continuum\\anaconda3\\lib\\site-packages\\keras\\backend\\tensorflow_backend.py:3976: The name tf.nn.max_pool is deprecated. Please use tf.nn.max_pool2d instead.\n",
      "\n",
      "W0819 14:21:20.294941 25272 deprecation_wrapper.py:119] From C:\\Users\\jkruger\\AppData\\Local\\Continuum\\anaconda3\\lib\\site-packages\\keras\\backend\\tensorflow_backend.py:4115: The name tf.random_normal is deprecated. Please use tf.random.normal instead.\n",
      "\n",
      "W0819 14:21:20.309921 25272 deprecation_wrapper.py:119] From C:\\Users\\jkruger\\AppData\\Local\\Continuum\\anaconda3\\lib\\site-packages\\keras\\optimizers.py:790: The name tf.train.Optimizer is deprecated. Please use tf.compat.v1.train.Optimizer instead.\n",
      "\n",
      "W0819 14:21:20.359910 25272 deprecation_wrapper.py:119] From C:\\Users\\jkruger\\AppData\\Local\\Continuum\\anaconda3\\lib\\site-packages\\keras\\backend\\tensorflow_backend.py:174: The name tf.get_default_session is deprecated. Please use tf.compat.v1.get_default_session instead.\n",
      "\n"
     ]
    },
    {
     "name": "stdout",
     "output_type": "stream",
     "text": [
      "Train on 1260 samples, validate on 316 samples\n",
      "Epoch 1/20\n",
      "1260/1260 [==============================] - 0s 361us/step - loss: 0.1091 - acc: 0.0135 - val_loss: 0.0694 - val_acc: 0.0190\n",
      "Epoch 2/20\n",
      "1260/1260 [==============================] - 0s 194us/step - loss: 0.0574 - acc: 0.0151 - val_loss: 0.0519 - val_acc: 0.0127\n",
      "Epoch 3/20\n",
      "1260/1260 [==============================] - 0s 188us/step - loss: 0.0425 - acc: 0.0190 - val_loss: 0.0385 - val_acc: 0.0127\n",
      "Epoch 4/20\n",
      "1260/1260 [==============================] - 0s 202us/step - loss: 0.0329 - acc: 0.0143 - val_loss: 0.0345 - val_acc: 0.0158\n",
      "Epoch 5/20\n",
      "1260/1260 [==============================] - 0s 193us/step - loss: 0.0287 - acc: 0.0143 - val_loss: 0.0336 - val_acc: 0.0158\n",
      "Epoch 6/20\n",
      "1260/1260 [==============================] - 0s 188us/step - loss: 0.0291 - acc: 0.0159 - val_loss: 0.0345 - val_acc: 0.0127\n",
      "Epoch 7/20\n",
      "1260/1260 [==============================] - 0s 197us/step - loss: 0.0274 - acc: 0.0151 - val_loss: 0.0319 - val_acc: 0.0127\n",
      "Epoch 8/20\n",
      "1260/1260 [==============================] - 0s 203us/step - loss: 0.0254 - acc: 0.0175 - val_loss: 0.0286 - val_acc: 0.0158\n",
      "Epoch 9/20\n",
      "1260/1260 [==============================] - 0s 187us/step - loss: 0.0238 - acc: 0.0135 - val_loss: 0.0254 - val_acc: 0.0158\n",
      "Epoch 10/20\n",
      "1260/1260 [==============================] - 0s 199us/step - loss: 0.0237 - acc: 0.0151 - val_loss: 0.0274 - val_acc: 0.0158\n",
      "Epoch 11/20\n",
      "1260/1260 [==============================] - 0s 193us/step - loss: 0.0245 - acc: 0.0151 - val_loss: 0.0263 - val_acc: 0.0222\n",
      "Epoch 12/20\n",
      "1260/1260 [==============================] - 0s 220us/step - loss: 0.0230 - acc: 0.0143 - val_loss: 0.0248 - val_acc: 0.0127\n",
      "Epoch 13/20\n",
      "1260/1260 [==============================] - 0s 210us/step - loss: 0.0233 - acc: 0.0159 - val_loss: 0.0254 - val_acc: 0.0190\n",
      "Epoch 14/20\n",
      "1260/1260 [==============================] - 0s 198us/step - loss: 0.0228 - acc: 0.0143 - val_loss: 0.0239 - val_acc: 0.0158\n",
      "Epoch 15/20\n",
      "1260/1260 [==============================] - 0s 205us/step - loss: 0.0225 - acc: 0.0159 - val_loss: 0.0238 - val_acc: 0.0190\n",
      "Epoch 16/20\n",
      "1260/1260 [==============================] - 0s 213us/step - loss: 0.0221 - acc: 0.0143 - val_loss: 0.0268 - val_acc: 0.0158\n",
      "Epoch 17/20\n",
      "1260/1260 [==============================] - 0s 213us/step - loss: 0.0223 - acc: 0.0159 - val_loss: 0.0264 - val_acc: 0.0127\n",
      "Epoch 18/20\n",
      "1260/1260 [==============================] - 0s 202us/step - loss: 0.0220 - acc: 0.0127 - val_loss: 0.0233 - val_acc: 0.0127\n",
      "Epoch 19/20\n",
      "1260/1260 [==============================] - 0s 202us/step - loss: 0.0219 - acc: 0.0135 - val_loss: 0.0284 - val_acc: 0.0222\n",
      "Epoch 20/20\n",
      "1260/1260 [==============================] - 0s 206us/step - loss: 0.0221 - acc: 0.0127 - val_loss: 0.0244 - val_acc: 0.0190\n",
      "MAE: 0.024431710880302885\n"
     ]
    }
   ],
   "source": [
    "all_weights = []\n",
    "games_processed = 0\n",
    "while (games_processed < 10):\n",
    "    game = RandomAIGame()\n",
    "    moves, winner = game.play()\n",
    "    print(f'winner is {winner}')\n",
    "    if winner is not None:\n",
    "        weights = WeightedWinLikelihoodAnalyzer().analyze_game(moves)\n",
    "        all_weights.append(weights)\n",
    "        games_processed += 1\n",
    "          \n",
    "all_weights = [item for sublist in all_weights for item in sublist]\n",
    "history, y_test, predictions = NNTrainer().train(all_weights)"
   ]
  },
  {
   "cell_type": "code",
   "execution_count": 3,
   "metadata": {},
   "outputs": [
    {
     "data": {
      "image/png": "[encoded data removed]",
      "text/plain": [
       "<Figure size 432x288 with 1 Axes>"
      ]
     },
     "metadata": {
      "needs_background": "light"
     },
     "output_type": "display_data"
    }
   ],
   "source": [
    "plt.plot(history['loss'], linewidth=2, label='Loss')\n",
    "plt.plot(history['acc'], linewidth=2, label='Accuracy')\n",
    "plt.legend(loc='upper right')\n",
    "plt.title('Model Loss/Accuracy')\n",
    "plt.ylabel('Value')\n",
    "plt.xlabel('Epoch')\n",
    "plt.show()\n"
   ]
  },
  {
   "cell_type": "code",
   "execution_count": null,
   "metadata": {},
   "outputs": [
    {
     "name": "stdout",
     "output_type": "stream",
     "text": [
      "Winner = 2 (50 moves)\n",
      "Winner = 1 (54 moves)\n",
      "Winner = None (95 moves)\n",
      "Winner = 1 (39 moves)\n",
      "Winner = 1 (40 moves)\n",
      "Winner = 2 (48 moves)\n",
      "Winner = 1 (94 moves)\n",
      "Winner = 1 (49 moves)\n",
      "Winner = 1 (53 moves)\n",
      "Winner = 2 (64 moves)\n",
      "Winner = 1 (49 moves)\n",
      "Winner = 1 (46 moves)\n",
      "Winner = 1 (81 moves)\n",
      "Winner = None (91 moves)\n",
      "Winner = 2 (48 moves)\n",
      "Winner = None (96 moves)\n",
      "Winner = 2 (47 moves)\n",
      "Winner = 2 (63 moves)\n",
      "Winner = 2 (105 moves)\n",
      "Winner = 2 (52 moves)\n",
      "Winner = 1 (94 moves)\n",
      "Winner = 2 (41 moves)\n",
      "Winner = 2 (44 moves)\n",
      "Winner = 2 (67 moves)\n",
      "Winner = None (104 moves)\n",
      "Winner = 1 (47 moves)\n",
      "Winner = 2 (44 moves)\n",
      "Winner = 1 (92 moves)\n",
      "Winner = 2 (90 moves)\n",
      "Winner = 1 (69 moves)\n",
      "Winner = 1 (95 moves)\n",
      "Winner = None (91 moves)\n",
      "Winner = 1 (80 moves)\n",
      "Winner = None (124 moves)\n",
      "Winner = 1 (53 moves)\n",
      "Winner = 1 (121 moves)\n",
      "Winner = 1 (40 moves)\n",
      "Winner = 2 (40 moves)\n",
      "Winner = 2 (51 moves)\n",
      "Winner = 1 (40 moves)\n",
      "Winner = 1 (45 moves)\n",
      "Winner = None (92 moves)\n",
      "Winner = 2 (46 moves)\n",
      "Winner = 1 (50 moves)\n",
      "Winner = 1 (45 moves)\n",
      "Winner = None (90 moves)\n",
      "Winner = 1 (88 moves)\n",
      "Winner = 2 (47 moves)\n",
      "Winner = 1 (106 moves)\n",
      "Winner = 2 (52 moves)\n",
      "Winner = 2 (42 moves)\n",
      "Winner = 1 (56 moves)\n",
      "Winner = 2 (78 moves)\n",
      "Winner = 2 (97 moves)\n",
      "Winner = 2 (76 moves)\n"
     ]
    }
   ],
   "source": [
    "results = []\n",
    "for i in range(0,100):\n",
    "    game = AIGame(RandomAIPlayer(), NNPlayer(NNTrainer().get_model()))\n",
    "    moves, winner = game.play()\n",
    "    results.append(winner)\n",
    "    print(f'Winner = {winner} ({len(moves)} moves) at {datetime.now()}')\n",
    "print(f'AI wins: {np.sum([w == 2 for w in results])}, random player wins: {np.sum([w == 1 for w in results])}, draws: {np.sum([w == None for w in results])}')"
   ]
  },
  {
   "cell_type": "code",
   "execution_count": null,
   "metadata": {},
   "outputs": [],
   "source": [
    "%debug\n"
   ]
  },
  {
   "cell_type": "code",
   "execution_count": null,
   "metadata": {},
   "outputs": [],
   "source": []
  }
 ],
 "metadata": {
  "kernelspec": {
   "display_name": "Python 3",
   "language": "python",
   "name": "python3"
  },
  "language_info": {
   "codemirror_mode": {
    "name": "ipython",
    "version": 3
   },
   "file_extension": ".py",
   "mimetype": "text/x-python",
   "name": "python",
   "nbconvert_exporter": "python",
   "pygments_lexer": "ipython3",
   "version": "3.7.3"
  }
 },
 "nbformat": 4,
 "nbformat_minor": 2
}
