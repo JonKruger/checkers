{
 "cells": [
  {
   "cell_type": "code",
   "execution_count": 1,
   "metadata": {},
   "outputs": [
    {
     "name": "stderr",
     "output_type": "stream",
     "text": [
      "Using TensorFlow backend.\n"
     ]
    }
   ],
   "source": [
    "import numpy as np\n",
    "from ai.analyzer.weighted_win_likelihood_analyzer import WeightedWinLikelihoodAnalyzer, State\n",
    "from ai.analyzer.nn_trainer import NNTrainer\n",
    "from ai.games.random_ai_game import RandomAIGame\n",
    "from ai.games.ai_game import AIGame\n",
    "from ai.players.random_ai_player import RandomAIPlayer\n",
    "from ai.players.nn_player import NNPlayer\n",
    "from checkers.game import Game\n",
    "from checkers.piece import Piece\n",
    "\n",
    "import matplotlib.pyplot as plt\n",
    "from datetime import datetime\n",
    "%matplotlib inline"
   ]
  },
  {
   "cell_type": "code",
   "execution_count": null,
   "metadata": {},
   "outputs": [],
   "source": [
    "game = Game()\n",
    "game = game.move([9,14])\n",
    "game = game.move([23,18])\n",
    "game = game.move([14,23])\n",
    "game = game.move([26,19])\n",
    "game = game.move([11,16])\n",
    "game = game.move([24,20])\n",
    "\n",
    "\n",
    "weights = WeightedWinLikelihoodAnalyzer().analyze_game(game)\n",
    "weights\n"
   ]
  },
  {
   "cell_type": "code",
   "execution_count": null,
   "metadata": {},
   "outputs": [],
   "source": [
    "raise ValueError"
   ]
  },
  {
   "cell_type": "code",
   "execution_count": null,
   "metadata": {},
   "outputs": [],
   "source": [
    "all_weights = []\n",
    "games_processed = 0\n",
    "while (games_processed < 1):\n",
    "    game = RandomAIGame()\n",
    "    moves, winner = game.play()\n",
    "    print(f'winner is {winner}')\n",
    "    if winner is not None:\n",
    "        weights = WeightedWinLikelihoodAnalyzer().analyze_game(game.current_state())\n",
    "        all_weights.append(weights)\n",
    "        games_processed += 1\n",
    "          \n",
    "all_weights = [item for sublist in all_weights for item in sublist]\n",
    "history, y_test, predictions = NNTrainer().train(all_weights)"
   ]
  },
  {
   "cell_type": "code",
   "execution_count": null,
   "metadata": {},
   "outputs": [],
   "source": [
    "plt.hist(np.array([w.weight for w in all_weights]))"
   ]
  },
  {
   "cell_type": "code",
   "execution_count": null,
   "metadata": {},
   "outputs": [],
   "source": [
    "plt.plot(history['loss'], linewidth=2, label='Loss')\n",
    "plt.plot(history['acc'], linewidth=2, label='Accuracy')\n",
    "plt.legend(loc='upper right')\n",
    "plt.title('Model Loss/Accuracy')\n",
    "plt.ylabel('Value')\n",
    "plt.xlabel('Epoch')\n",
    "plt.show()\n"
   ]
  },
  {
   "cell_type": "code",
   "execution_count": null,
   "metadata": {},
   "outputs": [],
   "source": [
    "results = []\n",
    "for i in range(0,30):\n",
    "    game = AIGame(RandomAIPlayer(), NNPlayer(NNTrainer().get_model()))\n",
    "    moves, winner = game.play()\n",
    "    results.append(winner)\n",
    "    print(f'Winner = {winner} ({len(moves)} moves) at {datetime.now()}')\n",
    "print(f'AI wins: {np.sum([w == 2 for w in results])}, random player wins: {np.sum([w == 1 for w in results])}, draws: {np.sum([w == None for w in results])}')"
   ]
  },
  {
   "cell_type": "code",
   "execution_count": null,
   "metadata": {},
   "outputs": [],
   "source": [
    "%debug\n"
   ]
  },
  {
   "cell_type": "code",
   "execution_count": null,
   "metadata": {},
   "outputs": [],
   "source": []
  }
 ],
 "metadata": {
  "kernelspec": {
   "display_name": "Python 3",
   "language": "python",
   "name": "python3"
  },
  "language_info": {
   "codemirror_mode": {
    "name": "ipython",
    "version": 3
   },
   "file_extension": ".py",
   "mimetype": "text/x-python",
   "name": "python",
   "nbconvert_exporter": "python",
   "pygments_lexer": "ipython3",
   "version": "3.7.3"
  }
 },
 "nbformat": 4,
 "nbformat_minor": 2
}
