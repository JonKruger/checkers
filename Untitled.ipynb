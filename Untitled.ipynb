{
 "cells": [
  {
   "cell_type": "code",
   "execution_count": 1,
   "metadata": {},
   "outputs": [
    {
     "name": "stderr",
     "output_type": "stream",
     "text": [
      "Using TensorFlow backend.\n"
     ]
    }
   ],
   "source": [
    "import numpy as np\n",
    "from ai.analyzer.weighted_win_likelihood_analyzer import WeightedWinLikelihoodAnalyzer, WeightedState\n",
    "from ai.analyzer.nn_trainer import NNTrainer\n",
    "from ai.games.random_ai_game import RandomAIGame\n",
    "from ai.games.ai_game import AIGame\n",
    "from ai.players.random_ai_player import RandomAIPlayer\n",
    "from ai.players.nn_player import NNPlayer\n",
    "import matplotlib.pyplot as plt\n",
    "from datetime import datetime\n",
    "%matplotlib inline"
   ]
  },
  {
   "cell_type": "code",
   "execution_count": 2,
   "metadata": {},
   "outputs": [
    {
     "name": "stdout",
     "output_type": "stream",
     "text": [
      "winner is 1\n",
      "Weight values: count = 236, mean = 0.0, std = 13.147531082603821, 25% = -1.0, 75% = 1.0\n",
      "winner is 1\n",
      "Weight values: count = 242, mean = 1.1744508029092565e-16, std = 13.533707348712614, 25% = -4.0, 75% = 4.0\n",
      "winner is 1\n",
      "Weight values: count = 102, mean = 0.0, std = 19.887921252979304, 25% = -1.0, 75% = 1.0\n",
      "winner is 1\n",
      "Weight values: count = 86, mean = 0.0, std = 21.945492730007015, 25% = -1.75, 75% = 1.75\n",
      "winner is 1\n",
      "Weight values: count = 242, mean = 0.0, std = 13.334098146671057, 25% = -2.4, 75% = 2.4\n",
      "winner is 1\n",
      "Weight values: count = 82, mean = -6.498866485610672e-17, std = 22.5708277864656, 25% = -2.0, 75% = 2.0\n",
      "winner is 1\n",
      "Weight values: count = 162, mean = 0.0, std = 16.18931532650534, 25% = -3.1500000000000004, 75% = 3.1500000000000004\n",
      "winner is 1\n",
      "Weight values: count = 114, mean = 1.2855213969343918e-16, std = 18.867757335700528, 25% = -1.0, 75% = 1.0\n",
      "winner is 2\n",
      "Weight values: count = 92, mean = 0.0, std = 21.415658635274532, 25% = -4.0, 75% = 4.0\n",
      "winner is None\n",
      "winner is 1\n",
      "Weight values: count = 232, mean = 0.0, std = 13.188782806123834, 25% = -1.0, 75% = 1.0\n"
     ]
    },
    {
     "name": "stderr",
     "output_type": "stream",
     "text": [
      "WARNING: Logging before flag parsing goes to stderr.\n",
      "W0819 15:15:25.185088 23268 deprecation_wrapper.py:119] From C:\\Users\\jkruger\\AppData\\Local\\Continuum\\anaconda3\\lib\\site-packages\\keras\\backend\\tensorflow_backend.py:74: The name tf.get_default_graph is deprecated. Please use tf.compat.v1.get_default_graph instead.\n",
      "\n",
      "W0819 15:15:25.208089 23268 deprecation_wrapper.py:119] From C:\\Users\\jkruger\\AppData\\Local\\Continuum\\anaconda3\\lib\\site-packages\\keras\\backend\\tensorflow_backend.py:517: The name tf.placeholder is deprecated. Please use tf.compat.v1.placeholder instead.\n",
      "\n",
      "W0819 15:15:25.212093 23268 deprecation_wrapper.py:119] From C:\\Users\\jkruger\\AppData\\Local\\Continuum\\anaconda3\\lib\\site-packages\\keras\\backend\\tensorflow_backend.py:4138: The name tf.random_uniform is deprecated. Please use tf.random.uniform instead.\n",
      "\n",
      "W0819 15:15:25.238091 23268 deprecation_wrapper.py:119] From C:\\Users\\jkruger\\AppData\\Local\\Continuum\\anaconda3\\lib\\site-packages\\keras\\backend\\tensorflow_backend.py:3976: The name tf.nn.max_pool is deprecated. Please use tf.nn.max_pool2d instead.\n",
      "\n",
      "W0819 15:15:25.279089 23268 deprecation_wrapper.py:119] From C:\\Users\\jkruger\\AppData\\Local\\Continuum\\anaconda3\\lib\\site-packages\\keras\\backend\\tensorflow_backend.py:4115: The name tf.random_normal is deprecated. Please use tf.random.normal instead.\n",
      "\n",
      "W0819 15:15:25.297088 23268 deprecation_wrapper.py:119] From C:\\Users\\jkruger\\AppData\\Local\\Continuum\\anaconda3\\lib\\site-packages\\keras\\optimizers.py:790: The name tf.train.Optimizer is deprecated. Please use tf.compat.v1.train.Optimizer instead.\n",
      "\n",
      "W0819 15:15:25.347087 23268 deprecation_wrapper.py:119] From C:\\Users\\jkruger\\AppData\\Local\\Continuum\\anaconda3\\lib\\site-packages\\keras\\backend\\tensorflow_backend.py:174: The name tf.get_default_session is deprecated. Please use tf.compat.v1.get_default_session instead.\n",
      "\n"
     ]
    },
    {
     "name": "stdout",
     "output_type": "stream",
     "text": [
      "Train on 1272 samples, validate on 318 samples\n",
      "Epoch 1/20\n",
      "1272/1272 [==============================] - 0s 392us/step - loss: 4.7440 - acc: 0.1981 - val_loss: 5.4990 - val_acc: 0.2075\n",
      "Epoch 2/20\n",
      "1272/1272 [==============================] - 0s 206us/step - loss: 4.7397 - acc: 0.1981 - val_loss: 5.4969 - val_acc: 0.2075\n",
      "Epoch 3/20\n",
      "1272/1272 [==============================] - 0s 200us/step - loss: 4.7388 - acc: 0.1981 - val_loss: 5.4955 - val_acc: 0.2075\n",
      "Epoch 4/20\n",
      "1272/1272 [==============================] - 0s 192us/step - loss: 4.7386 - acc: 0.1981 - val_loss: 5.4963 - val_acc: 0.2075\n",
      "Epoch 5/20\n",
      "1272/1272 [==============================] - 0s 215us/step - loss: 4.7379 - acc: 0.1981 - val_loss: 5.4956 - val_acc: 0.2075\n",
      "Epoch 6/20\n",
      "1272/1272 [==============================] - 0s 203us/step - loss: 4.7376 - acc: 0.1981 - val_loss: 5.4955 - val_acc: 0.2075\n",
      "Epoch 7/20\n",
      "1272/1272 [==============================] - 0s 202us/step - loss: 4.7378 - acc: 0.1981 - val_loss: 5.4949 - val_acc: 0.2075\n",
      "Epoch 8/20\n",
      "1272/1272 [==============================] - 0s 201us/step - loss: 4.7374 - acc: 0.1981 - val_loss: 5.4956 - val_acc: 0.2075\n",
      "Epoch 9/20\n",
      "1272/1272 [==============================] - 0s 237us/step - loss: 4.7373 - acc: 0.1981 - val_loss: 5.4963 - val_acc: 0.2075\n",
      "Epoch 10/20\n",
      "1272/1272 [==============================] - 0s 269us/step - loss: 4.7369 - acc: 0.1981 - val_loss: 5.4967 - val_acc: 0.2075\n",
      "Epoch 11/20\n",
      "1272/1272 [==============================] - 0s 296us/step - loss: 4.7368 - acc: 0.1981 - val_loss: 5.4979 - val_acc: 0.2075\n",
      "Epoch 12/20\n",
      "1272/1272 [==============================] - 0s 270us/step - loss: 4.7368 - acc: 0.1981 - val_loss: 5.4992 - val_acc: 0.2075\n",
      "Epoch 13/20\n",
      "1272/1272 [==============================] - 0s 289us/step - loss: 4.7363 - acc: 0.1981 - val_loss: 5.4985 - val_acc: 0.2075\n",
      "Epoch 14/20\n",
      "1272/1272 [==============================] - 0s 296us/step - loss: 4.7364 - acc: 0.1981 - val_loss: 5.5022 - val_acc: 0.2075\n",
      "Epoch 15/20\n",
      "1272/1272 [==============================] - 0s 289us/step - loss: 4.7356 - acc: 0.1981 - val_loss: 5.5039 - val_acc: 0.2075\n",
      "Epoch 16/20\n",
      "1272/1272 [==============================] - 0s 308us/step - loss: 4.7348 - acc: 0.1981 - val_loss: 5.5156 - val_acc: 0.2075\n",
      "Epoch 17/20\n",
      "1272/1272 [==============================] - 0s 293us/step - loss: 4.7343 - acc: 0.1981 - val_loss: 5.5164 - val_acc: 0.2075\n",
      "Epoch 18/20\n",
      "1272/1272 [==============================] - 0s 334us/step - loss: 4.7335 - acc: 0.1981 - val_loss: 5.5278 - val_acc: 0.2107\n",
      "Epoch 19/20\n",
      "1272/1272 [==============================] - 0s 292us/step - loss: 4.7338 - acc: 0.1997 - val_loss: 5.5174 - val_acc: 0.2075\n",
      "Epoch 20/20\n",
      "1272/1272 [==============================] - 0s 263us/step - loss: 4.7312 - acc: 0.1989 - val_loss: 5.5341 - val_acc: 0.2107\n",
      "MAE: 5.534112981377088\n"
     ]
    }
   ],
   "source": [
    "all_weights = []\n",
    "games_processed = 0\n",
    "while (games_processed < 10):\n",
    "    game = RandomAIGame()\n",
    "    moves, winner = game.play()\n",
    "    print(f'winner is {winner}')\n",
    "    if winner is not None:\n",
    "        weights = WeightedWinLikelihoodAnalyzer().analyze_game(game.current_state())\n",
    "        all_weights.append(weights)\n",
    "        games_processed += 1\n",
    "          \n",
    "all_weights = [item for sublist in all_weights for item in sublist]\n",
    "history, y_test, predictions = NNTrainer().train(all_weights)"
   ]
  },
  {
   "cell_type": "code",
   "execution_count": 3,
   "metadata": {},
   "outputs": [
    {
     "data": {
      "image/png": "[encoded data removed]",
      "text/plain": [
       "<Figure size 432x288 with 1 Axes>"
      ]
     },
     "metadata": {
      "needs_background": "light"
     },
     "output_type": "display_data"
    }
   ],
   "source": [
    "plt.plot(history['loss'], linewidth=2, label='Loss')\n",
    "plt.plot(history['acc'], linewidth=2, label='Accuracy')\n",
    "plt.legend(loc='upper right')\n",
    "plt.title('Model Loss/Accuracy')\n",
    "plt.ylabel('Value')\n",
    "plt.xlabel('Epoch')\n",
    "plt.show()\n"
   ]
  },
  {
   "cell_type": "code",
   "execution_count": 4,
   "metadata": {},
   "outputs": [
    {
     "name": "stdout",
     "output_type": "stream",
     "text": [
      "Winner = 2 (77 moves) at 2019-08-19 15:15:34.040568\n",
      "Winner = 1 (62 moves) at 2019-08-19 15:15:35.570554\n",
      "Winner = 1 (60 moves) at 2019-08-19 15:15:36.642577\n",
      "Winner = 2 (51 moves) at 2019-08-19 15:15:37.514545\n",
      "Winner = 2 (51 moves) at 2019-08-19 15:15:38.398542\n",
      "Winner = 1 (88 moves) at 2019-08-19 15:15:39.582532\n",
      "Winner = 1 (65 moves) at 2019-08-19 15:15:40.627523\n",
      "Winner = None (89 moves) at 2019-08-19 15:15:41.797519\n",
      "Winner = 2 (95 moves) at 2019-08-19 15:15:43.241508\n",
      "Winner = 2 (72 moves) at 2019-08-19 15:15:44.703504\n",
      "Winner = 2 (116 moves) at 2019-08-19 15:15:46.391491\n",
      "Winner = 1 (51 moves) at 2019-08-19 15:15:47.679480\n",
      "Winner = 1 (113 moves) at 2019-08-19 15:15:49.291475\n",
      "Winner = None (90 moves) at 2019-08-19 15:15:51.030466\n",
      "Winner = 1 (132 moves) at 2019-08-19 15:15:52.990454\n",
      "Winner = 1 (73 moves) at 2019-08-19 15:15:54.613479\n",
      "Winner = 1 (51 moves) at 2019-08-19 15:15:56.318437\n",
      "Winner = 2 (124 moves) at 2019-08-19 15:15:58.350425\n",
      "Winner = 1 (67 moves) at 2019-08-19 15:16:00.318405\n",
      "Winner = 1 (103 moves) at 2019-08-19 15:16:02.357430\n",
      "Winner = None (128 moves) at 2019-08-19 15:16:04.482386\n",
      "Winner = 1 (40 moves) at 2019-08-19 15:16:06.378371\n",
      "Winner = 2 (43 moves) at 2019-08-19 15:16:08.259363\n",
      "Winner = None (85 moves) at 2019-08-19 15:16:10.718348\n",
      "Winner = None (147 moves) at 2019-08-19 15:16:13.546339\n",
      "Winner = 1 (42 moves) at 2019-08-19 15:16:15.662362\n",
      "Winner = 2 (103 moves) at 2019-08-19 15:16:18.316313\n",
      "Winner = 2 (81 moves) at 2019-08-19 15:16:20.774306\n",
      "Winner = 2 (85 moves) at 2019-08-19 15:16:23.318325\n",
      "Winner = 1 (100 moves) at 2019-08-19 15:16:26.058277\n",
      "AI wins: 11, random player wins: 14, draws: 5\n"
     ]
    }
   ],
   "source": [
    "results = []\n",
    "for i in range(0,30):\n",
    "    game = AIGame(RandomAIPlayer(), NNPlayer(NNTrainer().get_model()))\n",
    "    moves, winner = game.play()\n",
    "    results.append(winner)\n",
    "    print(f'Winner = {winner} ({len(moves)} moves) at {datetime.now()}')\n",
    "print(f'AI wins: {np.sum([w == 2 for w in results])}, random player wins: {np.sum([w == 1 for w in results])}, draws: {np.sum([w == None for w in results])}')"
   ]
  },
  {
   "cell_type": "code",
   "execution_count": 5,
   "metadata": {},
   "outputs": [
    {
     "name": "stderr",
     "output_type": "stream",
     "text": [
      "E0819 15:16:26.066279 23268 interactiveshell.py:1178] No traceback has been produced, nothing to debug.\n"
     ]
    }
   ],
   "source": [
    "%debug\n"
   ]
  },
  {
   "cell_type": "code",
   "execution_count": null,
   "metadata": {},
   "outputs": [],
   "source": []
  }
 ],
 "metadata": {
  "kernelspec": {
   "display_name": "Python 3",
   "language": "python",
   "name": "python3"
  },
  "language_info": {
   "codemirror_mode": {
    "name": "ipython",
    "version": 3
   },
   "file_extension": ".py",
   "mimetype": "text/x-python",
   "name": "python",
   "nbconvert_exporter": "python",
   "pygments_lexer": "ipython3",
   "version": "3.7.3"
  }
 },
 "nbformat": 4,
 "nbformat_minor": 2
}
